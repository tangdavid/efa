{
 "cells": [
  {
   "cell_type": "code",
   "execution_count": 55,
   "metadata": {},
   "outputs": [],
   "source": [
    "import numpy as np\n",
    "from scipy import linalg, stats\n",
    "from sklearn import linear_model\n",
    "from sklearn import decomposition\n",
    "import time\n",
    "import itertools\n",
    "import torch\n",
    "import torch.optim as optim"
   ]
  },
  {
   "cell_type": "markdown",
   "metadata": {},
   "source": [
    "## Simulating Additive Effects and Higher Rank Matrices"
   ]
  },
  {
   "cell_type": "code",
   "execution_count": 56,
   "metadata": {},
   "outputs": [],
   "source": [
    "class tools:\n",
    "    def outer(mat, weights, skip = None):\n",
    "        (m, k) = mat.shape\n",
    "        ret = np.zeros(shape = (m, m))\n",
    "        \n",
    "        for i in range(k):\n",
    "            for j in range(k):\n",
    "                if i == skip or j == skip:\n",
    "                    continue\n",
    "                    \n",
    "                u = mat[:, i]\n",
    "                v = mat[:, j]\n",
    "                ret += weights[i, j] * np.outer(u, v)\n",
    "                \n",
    "        return ret\n",
    "    \n",
    "    def outerTensor(mat, weights, skip = None):\n",
    "        (m, k) = mat.shape\n",
    "        ret = torch.zeros(m, m)\n",
    "        \n",
    "        for i in range(k):\n",
    "            for j in range(k):\n",
    "                if i == skip or j == skip:\n",
    "                    continue\n",
    "                    \n",
    "                u = mat[:, i]\n",
    "                v = mat[:, j]\n",
    "                ret += weights[i, j] * torch.outer(u, v)\n",
    "                \n",
    "        return ret"
   ]
  },
  {
   "cell_type": "code",
   "execution_count": 57,
   "metadata": {},
   "outputs": [],
   "source": [
    "class dataset:\n",
    "    def __init__(self, n, m, k, h2, sbeta, somega):\n",
    "        self.n = n \n",
    "        self.m = m \n",
    "        self.k = k \n",
    "        self.h2 = h2\n",
    "        self.sbeta = sbeta\n",
    "        self.somega = somega\n",
    "\n",
    "        self.simGeno()\n",
    "        self.simEffects()\n",
    "        self.simPheno()\n",
    "\n",
    "    def simGeno(self):\n",
    "        # genotypes are iid binom(2, p) where p normal\n",
    "        # genotypes are scaled and centered\n",
    "        \n",
    "        geno = np.zeros([self.n, self.m])\n",
    "        for i in range(self.m):\n",
    "            p = np.random.beta(2, 2)\n",
    "            snps = np.random.binomial(2, p, self.n)\n",
    "            geno.T[i] = (snps - (2*p))/np.sqrt(2*p*(1-p))\n",
    "        \n",
    "        # interaction effects as khatri rao\n",
    "        inter = linalg.khatri_rao(geno.T, geno.T).T\n",
    "        self.geno, self.inter = geno, inter\n",
    "\n",
    "    def simEffects(self, selfInteraction = False):\n",
    "        m = self.m\n",
    "        k = self.k\n",
    "        \n",
    "        # simulated latent pathways\n",
    "        pathways = np.random.normal(0, 1, m * k).reshape(m, -1) \n",
    "        \n",
    "        # main effects as sum of pathways\n",
    "        beta = np.sum(pathways, axis=1, keepdims=True)\n",
    "                \n",
    "        # currently generate weights from normal (0, 1)\n",
    "        weights = np.ones(k*k).reshape(k, -1)\n",
    "        #weights = np.random.normal(0, 1, k * k).reshape(k, -1) \n",
    "        weights = np.tril(weights, -1) + np.tril(weights, -1).T\n",
    "        \n",
    "        # simulate interaction matrix by summing over weighted outerproducts\n",
    "        omega = tools.outer(pathways, weights)\n",
    "                \n",
    "        # adding gaussian noise to interaction effects\n",
    "        eomega = np.random.normal(0, self.somega, m * m).reshape(m, -1) \n",
    "        eomega = np.tril(eomega) + np.tril(eomega, -1).T\n",
    "        \n",
    "        # adding gaussian noise to main effects\n",
    "        ebeta = np.random.normal(0, self.sbeta, m).reshape(-1, 1)\n",
    "        \n",
    "        # instance variables\n",
    "        self.pathways = pathways\n",
    "        self.beta = beta + ebeta\n",
    "        self.omegaMat = omega + eomega\n",
    "        self.omega = self.omegaMat.reshape(-1, 1)\n",
    "        self.omegaWeight = weights\n",
    "    \n",
    "    def simPheno(self):\n",
    "        # model with main effects and interactions\n",
    "        mean = self.inter @ self.omega + self.geno @ self.beta\n",
    "        \n",
    "        # add noise to simulate heritability\n",
    "        var = np.var(mean) * (1 - self.h2)/self.h2\n",
    "        sd = np.sqrt(var)\n",
    "        noise = np.random.normal(0, sd, self.n).reshape(-1, 1)\n",
    "        self.pheno = mean + noise"
   ]
  },
  {
   "cell_type": "code",
   "execution_count": 59,
   "metadata": {},
   "outputs": [],
   "source": [
    "class decomp:\n",
    "    def __init__(self):\n",
    "        self.data = None\n",
    "    def simData(self, n, m, k = 2, h2 = 0.9, sbeta = 0, somega = 0):\n",
    "        self.data = dataset(n, m, k, h2, sbeta, somega)\n",
    "        self.k = k\n",
    "    \n",
    "    def coordDescent(self):\n",
    "        m = self.data.m\n",
    "        k = self.k\n",
    "        \n",
    "        G = self.data.geno\n",
    "        inter = self.data.inter\n",
    "        Y = self.data.pheno#.reshape(-1, 1)\n",
    "        \n",
    "        thresh = 0.005\n",
    "                \n",
    "        # initialize pathways and weights\n",
    "        weights = np.random.normal(0, 1, k * k).reshape(k, -1) \n",
    "        #weights = np.ones(k * k).reshape(k, -1) \n",
    "        weights = np.tril(weights, -1) + np.tril(weights, -1).T\n",
    "        pathways = np.random.normal(0, 1/10, m * k).reshape(m, k)\n",
    "        iterations = 0\n",
    "        \n",
    "        while(True):\n",
    "            pathwaysPrev = np.copy(pathways) \n",
    "            \n",
    "            # iteratively update each pathway\n",
    "            for i in range(k):\n",
    "                # compute constants\n",
    "                mask = [True] * k\n",
    "                mask[i] = False\n",
    "                C1 = tools.outer(pathways, weights, skip=i).reshape(-1, 1)\n",
    "                C1 = inter @ C1\n",
    "                C2 = G @ np.sum(pathways[:,mask], axis=1, keepdims=True) \n",
    "                C = C1 + C2\n",
    "                A = np.sum(G @ pathways @ np.diagflat(weights[i]), axis=1, keepdims=True)\n",
    "                \n",
    "                # equations from the first order conditions\n",
    "                u1 = (4 * G.T @ (A*A*G)) + (4 * G.T @ (A*G)) + (G.T @ G)\n",
    "                u2 = (2 * (A*G).T @ Y) + (G.T @ Y) - (2 * (A*G).T @ C) - (G.T @ C)\n",
    "                u = linalg.inv(u1) @ u2\n",
    "                pathways[:, i] = u.reshape(-1,)\n",
    "                \n",
    "                \n",
    "            # iteratively fit weights\n",
    "            for i in range(k):\n",
    "                for j in range(i):\n",
    "                    ui = pathways[:,i]\n",
    "                    uj = pathways[:,j]\n",
    "                    \n",
    "                    # compute constants\n",
    "                    interacting = ((G @ ui) * (G @ uj)).reshape(-1, 1)\n",
    "                    C1 = tools.outer(pathways, weights) \n",
    "                    C1 = C1 - weights[i, j] * (np.outer(ui, uj) + np.outer(uj, ui))\n",
    "                    C1 = inter @ C1.reshape(-1, 1)\n",
    "                    C2 = G @ np.sum(pathways, axis=1, keepdims=True) \n",
    "                    C = C1 + C2\n",
    "                    \n",
    "                    # equation from the first order conditions\n",
    "                    weight = 1/2 * (interacting.T @ (Y - C))/(interacting.T @ interacting)\n",
    "                    weights[i, j] = weight\n",
    "                    weights[j, i] = weight    \n",
    "            \n",
    "            # monitor convergence\n",
    "            iterations += 1\n",
    "            if iterations % 10 == 0: \n",
    "                print(iterations,\n",
    "                      self.getLoss(pathways, weights),\n",
    "                      linalg.norm(pathways -  pathwaysPrev)/linalg.norm(pathwaysPrev))\n",
    "            if linalg.norm(pathways -  pathwaysPrev)/linalg.norm(pathwaysPrev) < thresh: break\n",
    "            \n",
    "        self.weights = weights\n",
    "        self.pathways = pathways                \n",
    "        \n",
    "    def gradDescent(self):\n",
    "        m = self.data.m\n",
    "        k = self.k\n",
    "\n",
    "        G = torch.tensor(self.data.geno, requires_grad = False).double()\n",
    "        inter = torch.tensor(self.data.inter, requires_grad = False).double()\n",
    "        Y = torch.tensor(self.data.pheno, requires_grad = False).double()\n",
    "\n",
    "        thresh = 0.001\n",
    "        \n",
    "        # initialization\n",
    "        #weights = np.ones(k * k).reshape(k, -1) \n",
    "        \n",
    "        weights = np.random.normal(0, 1, k * k).reshape(k, -1) \n",
    "        weights = np.tril(weights, 0) + np.tril(weights, -1).T\n",
    "        weights = torch.tensor(weights, requires_grad = True)\n",
    "\n",
    "        pathways = torch.randn(m, k, requires_grad = True, dtype=torch.float64)\n",
    "        \n",
    "        # use Adam to optimize \n",
    "        optimizer = optim.Adam([weights, pathways])\n",
    "        prevLoss = currentLoss = 1\n",
    "        i = 0\n",
    "        while True:\n",
    "            i += 1\n",
    "            # compute effects\n",
    "            interEffect = tools.outerTensor(pathways, weights).view(-1, 1).double()\n",
    "            interEffect = inter @ interEffect\n",
    "            mainEffect = torch.sum(G @ pathways, dim = 1, keepdim = True)\n",
    "            \n",
    "            # compute loss using effects\n",
    "            optimizer.zero_grad()\n",
    "            loss = torch.norm(Y - mainEffect - interEffect)\n",
    "            \n",
    "            # optimize the loss function with gradient descent\n",
    "            loss.backward()\n",
    "            optimizer.step()\n",
    "            \n",
    "            # monitor convergence\n",
    "            prevLoss = currentLoss\n",
    "            currentLoss = loss.item()\n",
    "            if np.abs(currentLoss - prevLoss) < thresh: break\n",
    "\n",
    "            if i % 1000 == 0: print(\"(iterations,loss):\", i, round(currentLoss, 3))\n",
    "                \n",
    "        self.pathways = pathways.detach().numpy()\n",
    "        self.weights = weights.detach().numpy()\n",
    "        \n",
    "    def getLoss(self, pathways, weights):\n",
    "        G = self.data.geno\n",
    "        Y = self.data.pheno\n",
    "        inter = self.data.inter\n",
    "        \n",
    "        interEffect = tools.outer(pathways, weights).reshape(-1, 1)\n",
    "        interEffect = inter @ interEffect\n",
    "        mainEffect = np.sum(G @ pathways, axis=1, keepdims=True)\n",
    "        loss = linalg.norm(Y - mainEffect - interEffect)#/linalg.norm(Y)\n",
    "        return(loss)\n",
    "    \n",
    "    def evalAcc(self):\n",
    "        maxCorr = 0\n",
    "        \n",
    "        groundTruth = self.data.pathways.reshape(-1,)\n",
    "        for perm in itertools.permutations(range(self.k)):\n",
    "            prediction = self.pathways[:,perm].reshape(-1,)\n",
    "            r = stats.pearsonr(prediction, groundTruth)[0]\n",
    "            rsquared = r ** 2\n",
    "            if rsquared > maxCorr: \n",
    "                maxCorr = rsquared\n",
    "        \n",
    "        return(maxCorr)\n",
    "            \n",
    "                "
   ]
  },
  {
   "cell_type": "code",
   "execution_count": 60,
   "metadata": {},
   "outputs": [],
   "source": [
    "test = decomp()\n",
    "test.simData(100000, 10, k=2, h2=0.999)"
   ]
  },
  {
   "cell_type": "code",
   "execution_count": null,
   "metadata": {},
   "outputs": [],
   "source": [
    "test.gradDescent()"
   ]
  },
  {
   "cell_type": "code",
   "execution_count": null,
   "metadata": {},
   "outputs": [],
   "source": [
    "test.getLoss(test.data.pathways, test.data.omegaWeight)"
   ]
  },
  {
   "cell_type": "code",
   "execution_count": 52,
   "metadata": {},
   "outputs": [
    {
     "data": {
      "text/plain": [
       "1364.0059371766629"
      ]
     },
     "execution_count": 52,
     "metadata": {},
     "output_type": "execute_result"
    }
   ],
   "source": [
    "test.getLoss(test.pathways, test.weights)"
   ]
  },
  {
   "cell_type": "code",
   "execution_count": 53,
   "metadata": {},
   "outputs": [
    {
     "data": {
      "text/plain": [
       "0.5611818343973438"
      ]
     },
     "execution_count": 53,
     "metadata": {},
     "output_type": "execute_result"
    }
   ],
   "source": [
    "test.evalAcc()"
   ]
  },
  {
   "cell_type": "code",
   "execution_count": 54,
   "metadata": {},
   "outputs": [
    {
     "data": {
      "text/plain": [
       "array([[0.89756169, 5.10789663],\n",
       "       [5.10789663, 9.64874488]])"
      ]
     },
     "execution_count": 54,
     "metadata": {},
     "output_type": "execute_result"
    }
   ],
   "source": [
    "test.weights"
   ]
  }
 ],
 "metadata": {
  "kernelspec": {
   "display_name": "Python 3",
   "language": "python",
   "name": "python3"
  },
  "language_info": {
   "codemirror_mode": {
    "name": "ipython",
    "version": 3
   },
   "file_extension": ".py",
   "mimetype": "text/x-python",
   "name": "python",
   "nbconvert_exporter": "python",
   "pygments_lexer": "ipython3",
   "version": "3.8.5"
  }
 },
 "nbformat": 4,
 "nbformat_minor": 4
}
